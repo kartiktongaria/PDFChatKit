{
  "nbformat": 4,
  "nbformat_minor": 0,
  "metadata": {
    "colab": {
      "provenance": [],
      "include_colab_link": true
    },
    "kernelspec": {
      "name": "python3",
      "display_name": "Python 3"
    },
    "language_info": {
      "name": "python"
    }
  },
  "cells": [
    {
      "cell_type": "markdown",
      "metadata": {
        "id": "view-in-github",
        "colab_type": "text"
      },
      "source": [
        "<a href=\"https://colab.research.google.com/github/kartiktongaria/PDFChatKit/blob/main/chat_with_pdf.ipynb\" target=\"_parent\"><img src=\"https://colab.research.google.com/assets/colab-badge.svg\" alt=\"Open In Colab\"/></a>"
      ]
    },
    {
      "cell_type": "code",
      "execution_count": null,
      "metadata": {
        "id": "eywyk_nw61gm"
      },
      "outputs": [],
      "source": [
        "import torch\n",
        "from transformers import AutoTokenizer, AutoModelForSeq2SeqLM, pipeline\n",
        "from langchain.embeddings import HuggingFaceEmbeddings\n",
        "from langchain.text_splitter import CharacterTextSplitter, TokenTextSplitter\n",
        "from langchain.document_loaders import PyPDFLoader\n",
        "from langchain.vectorstores import Chroma\n",
        "from langchain.llms.huggingface_pipeline import HuggingFacePipeline\n",
        "from langchain.chains import RetrievalQA\n",
        "from langchain.prompts import PromptTemplate"
      ]
    },
    {
      "cell_type": "code",
      "source": [
        "# Model names\n",
        "EMB_SBERT_MPNET_BASE = \"sentence-transformers/all-mpnet-base-v2\"\n",
        "LLM_FLAN_T5_BASE = \"google/flan-t5-base\"\n",
        "LLM_FALCON_SMALL = \"tiiuae/falcon-7b-instruct\""
      ],
      "metadata": {
        "id": "uAOrvOxfeBfQ"
      },
      "execution_count": null,
      "outputs": []
    },
    {
      "cell_type": "code",
      "source": [
        "# Configuration\n",
        "config = {\n",
        "    \"persist_directory\": None,\n",
        "    \"load_in_8bit\": False,\n",
        "    \"embedding\": EMB_SBERT_MPNET_BASE,\n",
        "    \"llm\": LLM_FLAN_T5_BASE,\n",
        "}\n"
      ],
      "metadata": {
        "id": "Sf_V3HpAfCL_"
      },
      "execution_count": null,
      "outputs": []
    },
    {
      "cell_type": "code",
      "source": [
        "def create_sbert_mpnet():\n",
        "    device = \"cuda\" if torch.cuda.is_available() else \"cpu\"\n",
        "    return HuggingFaceEmbeddings(model_name=EMB_SBERT_MPNET_BASE, model_kwargs={\"device\": device})\n"
      ],
      "metadata": {
        "id": "n7QpOnDifGGg"
      },
      "execution_count": null,
      "outputs": []
    },
    {
      "cell_type": "code",
      "source": [
        "def create_flan_t5_base(load_in_8bit=False):\n",
        "    model_name = \"google/flan-t5-base\"\n",
        "    tokenizer = AutoTokenizer.from_pretrained(model_name)\n",
        "    model = AutoModelForSeq2SeqLM.from_pretrained(model_name)\n",
        "\n",
        "    device = torch.device(\"cuda\" if torch.cuda.is_available() else \"cpu\")\n",
        "    model.to(device)\n",
        "\n",
        "    return pipeline(\n",
        "        task=\"text2text-generation\",\n",
        "        model=model,\n",
        "        tokenizer=tokenizer,\n",
        "        max_new_tokens=100,\n",
        "        model_kwargs={\"max_length\": 512, \"temperature\": 0.},\n",
        "    )"
      ],
      "metadata": {
        "id": "Q60JVcaBfIR4"
      },
      "execution_count": null,
      "outputs": []
    },
    {
      "cell_type": "code",
      "source": [
        "def create_falcon_instruct_small(load_in_8bit=False):\n",
        "    model = \"tiiuae/falcon-7b-instruct\"\n",
        "    tokenizer = AutoTokenizer.from_pretrained(model)\n",
        "    hf_pipeline = pipeline(\n",
        "        task=\"text-generation\",\n",
        "        model=model,\n",
        "        tokenizer=tokenizer,\n",
        "        trust_remote_code=True,\n",
        "        max_new_tokens=100,\n",
        "        model_kwargs={\n",
        "            \"device_map\": \"auto\",\n",
        "            \"load_in_8bit\": load_in_8bit,\n",
        "            \"max_length\": 512,\n",
        "            \"temperature\": 0.01,\n",
        "            \"torch_dtype\": torch.bfloat16,\n",
        "        }\n",
        "    )\n",
        "    return hf_pipeline"
      ],
      "metadata": {
        "id": "0I7DErZIfj21"
      },
      "execution_count": null,
      "outputs": []
    },
    {
      "cell_type": "code",
      "source": [
        "# Load the pdf using PyPDFLoader\n",
        "pdf_path = \"YOUR_PDF_FILE_PATH\"\n",
        "loader = PyPDFLoader(pdf_path)\n",
        "documents = loader.load()\n",
        "\n",
        "# Split documents and create text snippets\n",
        "text_splitter = CharacterTextSplitter(chunk_size=100, chunk_overlap=0)\n",
        "texts = text_splitter.split_documents(documents)\n",
        "text_splitter = TokenTextSplitter(chunk_size=1000, chunk_overlap=10, encoding_name=\"cl100k_base\")\n",
        "texts = text_splitter.split_documents(texts)\n",
        "\n",
        "# Embedding\n",
        "persist_directory = config[\"persist_directory\"]\n",
        "embedding = create_sbert_mpnet()\n",
        "vectordb = Chroma.from_documents(documents=texts, embedding=embedding, persist_directory=persist_directory)\n",
        "\n",
        "# Language Model\n",
        "load_in_8bit = config[\"load_in_8bit\"]\n",
        "llm = create_flan_t5_base(load_in_8bit=load_in_8bit)\n",
        "hf_llm = HuggingFacePipeline(pipeline=llm)\n",
        "retriever = vectordb.as_retriever(search_kwargs={\"k\": 4})\n",
        "qa = RetrievalQA.from_chain_type(llm=hf_llm, chain_type=\"stuff\", retriever=retriever)\n",
        "\n",
        "# Default prompt for flan models\n",
        "if config[\"llm\"] in [LLM_FLAN_T5_BASE]:\n",
        "    question_t5_template = \"\"\"\n",
        "    context: {context}\n",
        "    question: {question}\n",
        "    answer:\n",
        "    \"\"\"\n",
        "    QUESTION_T5_PROMPT = PromptTemplate(\n",
        "        template=question_t5_template, input_variables=[\"context\", \"question\"]\n",
        "    )\n",
        "    qa.combine_documents_chain.llm_chain.prompt = QUESTION_T5_PROMPT\n",
        "\n",
        "# Query\n",
        "question = \"YOUR_QUESTION\"\n",
        "qa.combine_documents_chain.verbose = True\n",
        "qa.return_source_documents = True\n",
        "qa({\"query\": question})"
      ],
      "metadata": {
        "colab": {
          "base_uri": "https://localhost:8080/"
        },
        "id": "TYheI-v0foVE",
        "outputId": "a8682367-0c35-4ad0-823c-cd2ea505d729"
      },
      "execution_count": null,
      "outputs": [
        {
          "output_type": "stream",
          "name": "stderr",
          "text": [
            "Token indices sequence length is longer than the specified maximum sequence length for this model (1926 > 512). Running this sequence through the model will result in indexing errors\n"
          ]
        },
        {
          "output_type": "stream",
          "name": "stdout",
          "text": [
            "\n",
            "\n",
            "\u001b[1m> Entering new StuffDocumentsChain chain...\u001b[0m\n",
            "\n",
            "\u001b[1m> Finished chain.\u001b[0m\n"
          ]
        },
        {
          "output_type": "execute_result",
          "data": {
            "text/plain": [
              "{'query': \"what's is icici pru iprotect smart?\",\n",
              " 'result': 'a life insurance policy',\n",
              " 'source_documents': [Document(page_content='Death Beneﬁt payout options \\nICICI Pru iProtect Smart provides the ﬂexibility to take the Death Beneﬁt in a way that meets your ﬁnancial \\nrequirement. The Death Beneﬁt payout option has to be selected by you at Policy inception. The Death Beneﬁt can \\nbe paid to your beneﬁciary as:\\n1. Lump sum: the entire beneﬁt amount is payable as a lump sum\\n2. Income: 10% of the beneﬁt amount is payable every year for 10 years. This will be paid in equal monthly \\ninstallments in advance at the rate of 0.83333% of Death Beneﬁt Amount. The beneﬁciary can also advance the \\nﬁrst year’s income as lump sum. The monthly income will start from the subsequent month for 9 years at the rate \\nof 0.80% of the Death Beneﬁt Amount.\\n3. Lump sum and Income: The percentage of the Sum Assured to be paid out as lump sum is chosen at inception. \\nThe balance Sum Assured will be paid out in equal monthly installments in advance at the rate of 0.83333% per \\nmonth over 10 years.\\n4. Increasing Income: The beneﬁt amount is payable in monthly installments for 10 years starting with 10% of the \\nbeneﬁt amount per annum in the ﬁrst year. The income amount will increase by 10% per annum simple interest \\nevery year thereafter.\\nAt any time, your beneﬁciary will have the option to convert all or some of his monthly income into a lump sum. The \\nlump sum amount will be the present value of calculated at a discount rate of 4% p.a.\\nThe premium for your policy will vary based on the Death Beneﬁt payout option chosen.\\nLife stage protection\\nResponsibilities change with time and your protection cover should match those responsibilities. ICICI Pru iProtect Smart offers \\nthe ﬂexibility to increase the level of protection at key life stages of marriage and child birth, without any medicals as below.\\nAdditional premium will be calculated based on the increased Sum Assured and outstanding policy term as per your \\nage at the time of each such increase.Event Additional Death Beneﬁt Maximum additional \\n (percentage of original Death Beneﬁt) Death Beneﬁt allowed\\nMarriage 50% ` 50,00,000\\nBirth / Legal adoption of 1st child 25% ` 25,00,000\\nBirth / Legal adoption of 2nd child 25% ` 25,00,000', metadata={'page': 5, 'source': '/content/ICICI Pru iProtect Smart.pdf'}),\n",
              "  Document(page_content='Death Beneﬁt payout options \\nICICI Pru iProtect Smart provides the ﬂexibility to take the Death Beneﬁt in a way that meets your ﬁnancial \\nrequirement. The Death Beneﬁt payout option has to be selected by you at Policy inception. The Death Beneﬁt can \\nbe paid to your beneﬁciary as:\\n1. Lump sum: the entire beneﬁt amount is payable as a lump sum\\n2. Income: 10% of the beneﬁt amount is payable every year for 10 years. This will be paid in equal monthly \\ninstallments in advance at the rate of 0.83333% of Death Beneﬁt Amount. The beneﬁciary can also advance the \\nﬁrst year’s income as lump sum. The monthly income will start from the subsequent month for 9 years at the rate \\nof 0.80% of the Death Beneﬁt Amount.\\n3. Lump sum and Income: The percentage of the Sum Assured to be paid out as lump sum is chosen at inception. \\nThe balance Sum Assured will be paid out in equal monthly installments in advance at the rate of 0.83333% per \\nmonth over 10 years.\\n4. Increasing Income: The beneﬁt amount is payable in monthly installments for 10 years starting with 10% of the \\nbeneﬁt amount per annum in the ﬁrst year. The income amount will increase by 10% per annum simple interest \\nevery year thereafter.\\nAt any time, your beneﬁciary will have the option to convert all or some of his monthly income into a lump sum. The \\nlump sum amount will be the present value of calculated at a discount rate of 4% p.a.\\nThe premium for your policy will vary based on the Death Beneﬁt payout option chosen.\\nLife stage protection\\nResponsibilities change with time and your protection cover should match those responsibilities. ICICI Pru iProtect Smart offers \\nthe ﬂexibility to increase the level of protection at key life stages of marriage and child birth, without any medicals as below.\\nAdditional premium will be calculated based on the increased Sum Assured and outstanding policy term as per your \\nage at the time of each such increase.Event Additional Death Beneﬁt Maximum additional \\n (percentage of original Death Beneﬁt) Death Beneﬁt allowed\\nMarriage 50% ` 50,00,000\\nBirth / Legal adoption of 1st child 25% ` 25,00,000\\nBirth / Legal adoption of 2nd child 25% ` 25,00,000', metadata={'page': 5, 'source': '/content/ICICI Pru iProtect Smart.pdf'}),\n",
              "  Document(page_content='Death Beneﬁt payout options \\nICICI Pru iProtect Smart provides the ﬂexibility to take the Death Beneﬁt in a way that meets your ﬁnancial \\nrequirement. The Death Beneﬁt payout option has to be selected by you at Policy inception. The Death Beneﬁt can \\nbe paid to your beneﬁciary as:\\n1. Lump sum: the entire beneﬁt amount is payable as a lump sum\\n2. Income: 10% of the beneﬁt amount is payable every year for 10 years. This will be paid in equal monthly \\ninstallments in advance at the rate of 0.83333% of Death Beneﬁt Amount. The beneﬁciary can also advance the \\nﬁrst year’s income as lump sum. The monthly income will start from the subsequent month for 9 years at the rate \\nof 0.80% of the Death Beneﬁt Amount.\\n3. Lump sum and Income: The percentage of the Sum Assured to be paid out as lump sum is chosen at inception. \\nThe balance Sum Assured will be paid out in equal monthly installments in advance at the rate of 0.83333% per \\nmonth over 10 years.\\n4. Increasing Income: The beneﬁt amount is payable in monthly installments for 10 years starting with 10% of the \\nbeneﬁt amount per annum in the ﬁrst year. The income amount will increase by 10% per annum simple interest \\nevery year thereafter.\\nAt any time, your beneﬁciary will have the option to convert all or some of his monthly income into a lump sum. The \\nlump sum amount will be the present value of calculated at a discount rate of 4% p.a.\\nThe premium for your policy will vary based on the Death Beneﬁt payout option chosen.\\nLife stage protection\\nResponsibilities change with time and your protection cover should match those responsibilities. ICICI Pru iProtect Smart offers \\nthe ﬂexibility to increase the level of protection at key life stages of marriage and child birth, without any medicals as below.\\nAdditional premium will be calculated based on the increased Sum Assured and outstanding policy term as per your \\nage at the time of each such increase.Event Additional Death Beneﬁt Maximum additional \\n (percentage of original Death Beneﬁt) Death Beneﬁt allowed\\nMarriage 50% ` 50,00,000\\nBirth / Legal adoption of 1st child 25% ` 25,00,000\\nBirth / Legal adoption of 2nd child 25% ` 25,00,000', metadata={'page': 5, 'source': '/content/ICICI Pru iProtect Smart.pdf'}),\n",
              "  Document(page_content='Death Beneﬁt payout options \\nICICI Pru iProtect Smart provides the ﬂexibility to take the Death Beneﬁt in a way that meets your ﬁnancial \\nrequirement. The Death Beneﬁt payout option has to be selected by you at Policy inception. The Death Beneﬁt can \\nbe paid to your beneﬁciary as:\\n1. Lump sum: the entire beneﬁt amount is payable as a lump sum\\n2. Income: 10% of the beneﬁt amount is payable every year for 10 years. This will be paid in equal monthly \\ninstallments in advance at the rate of 0.83333% of Death Beneﬁt Amount. The beneﬁciary can also advance the \\nﬁrst year’s income as lump sum. The monthly income will start from the subsequent month for 9 years at the rate \\nof 0.80% of the Death Beneﬁt Amount.\\n3. Lump sum and Income: The percentage of the Sum Assured to be paid out as lump sum is chosen at inception. \\nThe balance Sum Assured will be paid out in equal monthly installments in advance at the rate of 0.83333% per \\nmonth over 10 years.\\n4. Increasing Income: The beneﬁt amount is payable in monthly installments for 10 years starting with 10% of the \\nbeneﬁt amount per annum in the ﬁrst year. The income amount will increase by 10% per annum simple interest \\nevery year thereafter.\\nAt any time, your beneﬁciary will have the option to convert all or some of his monthly income into a lump sum. The \\nlump sum amount will be the present value of calculated at a discount rate of 4% p.a.\\nThe premium for your policy will vary based on the Death Beneﬁt payout option chosen.\\nLife stage protection\\nResponsibilities change with time and your protection cover should match those responsibilities. ICICI Pru iProtect Smart offers \\nthe ﬂexibility to increase the level of protection at key life stages of marriage and child birth, without any medicals as below.\\nAdditional premium will be calculated based on the increased Sum Assured and outstanding policy term as per your \\nage at the time of each such increase.Event Additional Death Beneﬁt Maximum additional \\n (percentage of original Death Beneﬁt) Death Beneﬁt allowed\\nMarriage 50% ` 50,00,000\\nBirth / Legal adoption of 1st child 25% ` 25,00,000\\nBirth / Legal adoption of 2nd child 25% ` 25,00,000', metadata={'page': 5, 'source': '/content/ICICI Pru iProtect Smart.pdf'})]}"
            ]
          },
          "metadata": {},
          "execution_count": 66
        }
      ]
    },
    {
      "cell_type": "code",
      "source": [],
      "metadata": {
        "id": "Gx_4kJ0Pgkng"
      },
      "execution_count": null,
      "outputs": []
    },
    {
      "cell_type": "code",
      "source": [],
      "metadata": {
        "id": "_pt_LpqkfqmQ"
      },
      "execution_count": null,
      "outputs": []
    }
  ]
}